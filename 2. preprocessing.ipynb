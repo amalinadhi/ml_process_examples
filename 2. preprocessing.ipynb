{
 "cells": [
  {
   "attachments": {},
   "cell_type": "markdown",
   "metadata": {},
   "source": [
    "# 0. Load Required Libraries"
   ]
  },
  {
   "cell_type": "code",
   "execution_count": 1,
   "metadata": {},
   "outputs": [],
   "source": [
    "import pandas as pd\n",
    "import numpy as np\n",
    "import seaborn as sns\n",
    "import src.util as util\n",
    "from imblearn.under_sampling import RandomUnderSampler\n",
    "from imblearn.over_sampling import RandomOverSampler, SMOTE\n",
    "from sklearn.preprocessing import LabelEncoder\n",
    "from sklearn.preprocessing import OneHotEncoder"
   ]
  },
  {
   "attachments": {},
   "cell_type": "markdown",
   "metadata": {},
   "source": [
    "# 1. Import Configuration File"
   ]
  },
  {
   "cell_type": "code",
   "execution_count": 2,
   "metadata": {},
   "outputs": [],
   "source": [
    "config_data = util.load_config()"
   ]
  },
  {
   "attachments": {},
   "cell_type": "markdown",
   "metadata": {},
   "source": [
    "# 2. Load Dataset"
   ]
  },
  {
   "cell_type": "code",
   "execution_count": 3,
   "metadata": {},
   "outputs": [],
   "source": [
    "def load_dataset(config_data: dict) -> pd.DataFrame:\n",
    "    # Load every set of data\n",
    "    X_train = util.pickle_load(config_data[\"train_set_path\"][0])\n",
    "    y_train = util.pickle_load(config_data[\"train_set_path\"][1])\n",
    "\n",
    "    X_valid = util.pickle_load(config_data[\"valid_set_path\"][0])\n",
    "    y_valid = util.pickle_load(config_data[\"valid_set_path\"][1])\n",
    "\n",
    "    X_test = util.pickle_load(config_data[\"test_set_path\"][0])\n",
    "    y_test = util.pickle_load(config_data[\"test_set_path\"][1])\n",
    "\n",
    "    # Concatenate X and y each set\n",
    "    train_set = pd.concat([X_train, y_train], axis=1)\n",
    "    valid_set = pd.concat([X_valid, y_valid], axis=1)\n",
    "    test_set = pd.concat([X_test, y_test], axis=1)\n",
    "\n",
    "    return train_set, valid_set, test_set"
   ]
  },
  {
   "cell_type": "code",
   "execution_count": 4,
   "metadata": {},
   "outputs": [],
   "source": [
    "train_set, valid_set, test_set = load_dataset(config_data = config_data)"
   ]
  },
  {
   "attachments": {},
   "cell_type": "markdown",
   "metadata": {},
   "source": [
    "# 3. Join Categories"
   ]
  },
  {
   "cell_type": "code",
   "execution_count": 5,
   "metadata": {},
   "outputs": [],
   "source": [
    "def join_label_categori(set_data, config_data):\n",
    "    # Check if label not found in set data\n",
    "    if config_data[\"label\"] in set_data.columns.to_list():\n",
    "        # Create copy of set data\n",
    "        set_data = set_data.copy()\n",
    "\n",
    "        # Rename sedang to tidak sehat\n",
    "        set_data[\"categori\"].replace(config_data[\"label_categories\"][1],\n",
    "                                     config_data[\"label_categories\"][2],\n",
    "                                     inplace = True)\n",
    "        \n",
    "        # Rename tidak sehat to tidak baik\n",
    "        set_data[\"categori\"].replace(config_data[\"label_categories\"][2],\n",
    "                                     config_data[\"label_categories_new\"][1],\n",
    "                                     inplace = True)\n",
    "        \n",
    "        # Return renamed set data\n",
    "        return set_data\n",
    "    else:\n",
    "        raise RuntimeError(\"Kolom label tidak terdeteksi pada set data yang diberikan\")"
   ]
  },
  {
   "cell_type": "code",
   "execution_count": 6,
   "metadata": {},
   "outputs": [
    {
     "data": {
      "text/plain": [
       "categori\n",
       "SEDANG         863\n",
       "TIDAK SEHAT    174\n",
       "BAIK           120\n",
       "Name: count, dtype: int64"
      ]
     },
     "execution_count": 6,
     "metadata": {},
     "output_type": "execute_result"
    }
   ],
   "source": [
    "train_set[\"categori\"].value_counts()"
   ]
  },
  {
   "cell_type": "code",
   "execution_count": 7,
   "metadata": {},
   "outputs": [],
   "source": [
    "train_set = join_label_categori(train_set, config_data)"
   ]
  },
  {
   "cell_type": "code",
   "execution_count": 8,
   "metadata": {},
   "outputs": [
    {
     "data": {
      "text/plain": [
       "categori\n",
       "TIDAK BAIK    1037\n",
       "BAIK           120\n",
       "Name: count, dtype: int64"
      ]
     },
     "execution_count": 8,
     "metadata": {},
     "output_type": "execute_result"
    }
   ],
   "source": [
    "train_set[\"categori\"].value_counts()"
   ]
  },
  {
   "cell_type": "code",
   "execution_count": 9,
   "metadata": {},
   "outputs": [],
   "source": [
    "valid_set = join_label_categori(valid_set, config_data)\n",
    "test_set = join_label_categori(test_set, config_data)"
   ]
  },
  {
   "attachments": {},
   "cell_type": "markdown",
   "metadata": {},
   "source": [
    "# 4. Handling Missing Value"
   ]
  },
  {
   "attachments": {},
   "cell_type": "markdown",
   "metadata": {},
   "source": [
    "## 4.1. Detect NaN value"
   ]
  },
  {
   "cell_type": "code",
   "execution_count": 10,
   "metadata": {},
   "outputs": [],
   "source": [
    "def nan_detector(set_data: pd.DataFrame) -> pd.DataFrame:\n",
    "    # Create copy of dataset\n",
    "    set_data = set_data.copy()\n",
    "\n",
    "    # Replace -1 with NaN\n",
    "    set_data.replace(-1,\n",
    "                     np.nan,\n",
    "                     inplace = True)\n",
    "    \n",
    "    # Return replaced set data\n",
    "    return set_data"
   ]
  },
  {
   "cell_type": "code",
   "execution_count": 11,
   "metadata": {},
   "outputs": [
    {
     "data": {
      "text/plain": [
       "stasiun     0\n",
       "pm10        0\n",
       "pm25        0\n",
       "so2         0\n",
       "co          0\n",
       "o3          0\n",
       "no2         0\n",
       "categori    0\n",
       "dtype: int64"
      ]
     },
     "execution_count": 11,
     "metadata": {},
     "output_type": "execute_result"
    }
   ],
   "source": [
    "train_set.isnull().sum()"
   ]
  },
  {
   "cell_type": "code",
   "execution_count": 12,
   "metadata": {},
   "outputs": [],
   "source": [
    "train_set = nan_detector(train_set)"
   ]
  },
  {
   "cell_type": "code",
   "execution_count": 13,
   "metadata": {},
   "outputs": [
    {
     "data": {
      "text/plain": [
       "stasiun      0\n",
       "pm10        38\n",
       "pm25        59\n",
       "so2         63\n",
       "co          11\n",
       "o3          33\n",
       "no2         12\n",
       "categori     0\n",
       "dtype: int64"
      ]
     },
     "execution_count": 13,
     "metadata": {},
     "output_type": "execute_result"
    }
   ],
   "source": [
    "train_set.isnull().sum()"
   ]
  },
  {
   "cell_type": "code",
   "execution_count": 14,
   "metadata": {},
   "outputs": [],
   "source": [
    "valid_set = nan_detector(valid_set)\n",
    "test_set = nan_detector(test_set)"
   ]
  },
  {
   "attachments": {},
   "cell_type": "markdown",
   "metadata": {},
   "source": [
    "## 4.2. Handling Feature"
   ]
  },
  {
   "attachments": {},
   "cell_type": "markdown",
   "metadata": {},
   "source": [
    "### 4.2.1 pm10"
   ]
  },
  {
   "cell_type": "code",
   "execution_count": 15,
   "metadata": {},
   "outputs": [
    {
     "data": {
      "text/plain": [
       "(54, 28)"
      ]
     },
     "execution_count": 15,
     "metadata": {},
     "output_type": "execute_result"
    }
   ],
   "source": [
    "impute_1 = int(train_set[train_set[\"categori\"] == \"BAIK\"][\"pm10\"].mean())\n",
    "impute_0 = int(train_set[train_set[\"categori\"] == \"TIDAK BAIK\"][\"pm10\"].mean())\n",
    "\n",
    "impute_0, impute_1"
   ]
  },
  {
   "cell_type": "code",
   "execution_count": 16,
   "metadata": {},
   "outputs": [
    {
     "data": {
      "text/plain": [
       "(6, 32)"
      ]
     },
     "execution_count": 16,
     "metadata": {},
     "output_type": "execute_result"
    }
   ],
   "source": [
    "train_set[train_set[\"categori\"] == \"BAIK\"][\"pm10\"].isnull().sum(), train_set[train_set[\"categori\"] == \"TIDAK BAIK\"][\"pm10\"].isnull().sum()"
   ]
  },
  {
   "cell_type": "code",
   "execution_count": 17,
   "metadata": {},
   "outputs": [],
   "source": [
    "# Replace NaN\n",
    "train_set.loc[train_set[(train_set[\"categori\"] == \"BAIK\") & (train_set[\"pm10\"].isnull() == True)].index, \"pm10\"] = impute_1\n",
    "train_set.loc[train_set[(train_set[\"categori\"] == \"TIDAK BAIK\") & (train_set[\"pm10\"].isnull() == True)].index, \"pm10\"] = impute_0"
   ]
  },
  {
   "cell_type": "code",
   "execution_count": 18,
   "metadata": {},
   "outputs": [
    {
     "data": {
      "text/plain": [
       "(0, 0)"
      ]
     },
     "execution_count": 18,
     "metadata": {},
     "output_type": "execute_result"
    }
   ],
   "source": [
    "train_set[train_set[\"categori\"] == \"BAIK\"][\"pm10\"].isnull().sum(), train_set[train_set[\"categori\"] == \"TIDAK BAIK\"][\"pm10\"].isnull().sum()"
   ]
  },
  {
   "cell_type": "code",
   "execution_count": 19,
   "metadata": {},
   "outputs": [
    {
     "data": {
      "text/plain": [
       "(1, 4)"
      ]
     },
     "execution_count": 19,
     "metadata": {},
     "output_type": "execute_result"
    }
   ],
   "source": [
    "valid_set[valid_set[\"categori\"] == \"BAIK\"][\"pm10\"].isnull().sum(), valid_set[valid_set[\"categori\"] == \"TIDAK BAIK\"][\"pm10\"].isnull().sum()"
   ]
  },
  {
   "cell_type": "code",
   "execution_count": 20,
   "metadata": {},
   "outputs": [],
   "source": [
    "# Replace NaN\n",
    "valid_set.loc[valid_set[(valid_set[\"categori\"] == \"BAIK\") & (valid_set[\"pm10\"].isnull() == True)].index, \"pm10\"] = impute_1\n",
    "valid_set.loc[valid_set[(valid_set[\"categori\"] == \"TIDAK BAIK\") & (valid_set[\"pm10\"].isnull() == True)].index, \"pm10\"] = impute_0"
   ]
  },
  {
   "cell_type": "code",
   "execution_count": 21,
   "metadata": {},
   "outputs": [
    {
     "data": {
      "text/plain": [
       "(0, 0)"
      ]
     },
     "execution_count": 21,
     "metadata": {},
     "output_type": "execute_result"
    }
   ],
   "source": [
    "valid_set[valid_set[\"categori\"] == \"BAIK\"][\"pm10\"].isnull().sum(), valid_set[valid_set[\"categori\"] == \"TIDAK BAIK\"][\"pm10\"].isnull().sum()"
   ]
  },
  {
   "cell_type": "code",
   "execution_count": 22,
   "metadata": {},
   "outputs": [
    {
     "data": {
      "text/plain": [
       "(3, 6)"
      ]
     },
     "execution_count": 22,
     "metadata": {},
     "output_type": "execute_result"
    }
   ],
   "source": [
    "test_set[test_set[\"categori\"] == \"BAIK\"][\"pm10\"].isnull().sum(), test_set[test_set[\"categori\"] == \"TIDAK BAIK\"][\"pm10\"].isnull().sum()"
   ]
  },
  {
   "cell_type": "code",
   "execution_count": 23,
   "metadata": {},
   "outputs": [],
   "source": [
    "# Replace NaN\n",
    "test_set.loc[test_set[(test_set[\"categori\"] == \"BAIK\") & (test_set[\"pm10\"].isnull() == True)].index, \"pm10\"] = impute_1\n",
    "test_set.loc[test_set[(test_set[\"categori\"] == \"TIDAK BAIK\") & (test_set[\"pm10\"].isnull() == True)].index, \"pm10\"] = impute_0"
   ]
  },
  {
   "cell_type": "code",
   "execution_count": 24,
   "metadata": {},
   "outputs": [
    {
     "data": {
      "text/plain": [
       "(0, 0)"
      ]
     },
     "execution_count": 24,
     "metadata": {},
     "output_type": "execute_result"
    }
   ],
   "source": [
    "test_set[test_set[\"categori\"] == \"BAIK\"][\"pm10\"].isnull().sum(), test_set[test_set[\"categori\"] == \"TIDAK BAIK\"][\"pm10\"].isnull().sum()"
   ]
  },
  {
   "attachments": {},
   "cell_type": "markdown",
   "metadata": {},
   "source": [
    "### 4.2.2 pm25"
   ]
  },
  {
   "cell_type": "code",
   "execution_count": 25,
   "metadata": {},
   "outputs": [
    {
     "data": {
      "text/plain": [
       "(81, 39)"
      ]
     },
     "execution_count": 25,
     "metadata": {},
     "output_type": "execute_result"
    }
   ],
   "source": [
    "impute_1 = int(train_set[train_set[\"categori\"] == \"BAIK\"][\"pm25\"].mean())\n",
    "impute_0 = int(train_set[train_set[\"categori\"] == \"TIDAK BAIK\"][\"pm25\"].mean())\n",
    "\n",
    "impute_0, impute_1"
   ]
  },
  {
   "cell_type": "code",
   "execution_count": 26,
   "metadata": {},
   "outputs": [
    {
     "data": {
      "text/plain": [
       "(36, 23)"
      ]
     },
     "execution_count": 26,
     "metadata": {},
     "output_type": "execute_result"
    }
   ],
   "source": [
    "train_set[train_set[\"categori\"] == \"BAIK\"][\"pm25\"].isnull().sum(), train_set[train_set[\"categori\"] == \"TIDAK BAIK\"][\"pm25\"].isnull().sum()"
   ]
  },
  {
   "cell_type": "code",
   "execution_count": 27,
   "metadata": {},
   "outputs": [],
   "source": [
    "# Replace NaN\n",
    "train_set.loc[train_set[(train_set[\"categori\"] == \"BAIK\") & (train_set[\"pm25\"].isnull() == True)].index, \"pm25\"] = impute_1\n",
    "train_set.loc[train_set[(train_set[\"categori\"] == \"TIDAK BAIK\") & (train_set[\"pm25\"].isnull() == True)].index, \"pm25\"] = impute_0"
   ]
  },
  {
   "cell_type": "code",
   "execution_count": 28,
   "metadata": {},
   "outputs": [
    {
     "data": {
      "text/plain": [
       "(0, 0)"
      ]
     },
     "execution_count": 28,
     "metadata": {},
     "output_type": "execute_result"
    }
   ],
   "source": [
    "train_set[train_set[\"categori\"] == \"BAIK\"][\"pm25\"].isnull().sum(), train_set[train_set[\"categori\"] == \"TIDAK BAIK\"][\"pm25\"].isnull().sum()"
   ]
  },
  {
   "cell_type": "code",
   "execution_count": 29,
   "metadata": {},
   "outputs": [
    {
     "data": {
      "text/plain": [
       "(4, 8)"
      ]
     },
     "execution_count": 29,
     "metadata": {},
     "output_type": "execute_result"
    }
   ],
   "source": [
    "valid_set[valid_set[\"categori\"] == \"BAIK\"][\"pm25\"].isnull().sum(), valid_set[valid_set[\"categori\"] == \"TIDAK BAIK\"][\"pm25\"].isnull().sum()"
   ]
  },
  {
   "cell_type": "code",
   "execution_count": 30,
   "metadata": {},
   "outputs": [],
   "source": [
    "# Replace NaN\n",
    "valid_set.loc[valid_set[(valid_set[\"categori\"] == \"BAIK\") & (valid_set[\"pm25\"].isnull() == True)].index, \"pm25\"] = impute_1\n",
    "valid_set.loc[valid_set[(valid_set[\"categori\"] == \"TIDAK BAIK\") & (valid_set[\"pm25\"].isnull() == True)].index, \"pm25\"] = impute_0"
   ]
  },
  {
   "cell_type": "code",
   "execution_count": 31,
   "metadata": {},
   "outputs": [
    {
     "data": {
      "text/plain": [
       "(0, 0)"
      ]
     },
     "execution_count": 31,
     "metadata": {},
     "output_type": "execute_result"
    }
   ],
   "source": [
    "valid_set[valid_set[\"categori\"] == \"BAIK\"][\"pm25\"].isnull().sum(), valid_set[valid_set[\"categori\"] == \"TIDAK BAIK\"][\"pm25\"].isnull().sum()"
   ]
  },
  {
   "cell_type": "code",
   "execution_count": 32,
   "metadata": {},
   "outputs": [
    {
     "data": {
      "text/plain": [
       "(9, 4)"
      ]
     },
     "execution_count": 32,
     "metadata": {},
     "output_type": "execute_result"
    }
   ],
   "source": [
    "test_set[test_set[\"categori\"] == \"BAIK\"][\"pm25\"].isnull().sum(), test_set[test_set[\"categori\"] == \"TIDAK BAIK\"][\"pm25\"].isnull().sum()"
   ]
  },
  {
   "cell_type": "code",
   "execution_count": 33,
   "metadata": {},
   "outputs": [],
   "source": [
    "# Replace NaN\n",
    "test_set.loc[test_set[(test_set[\"categori\"] == \"BAIK\") & (test_set[\"pm25\"].isnull() == True)].index, \"pm25\"] = impute_1\n",
    "test_set.loc[test_set[(test_set[\"categori\"] == \"TIDAK BAIK\") & (test_set[\"pm25\"].isnull() == True)].index, \"pm25\"] = impute_0"
   ]
  },
  {
   "cell_type": "code",
   "execution_count": 34,
   "metadata": {},
   "outputs": [
    {
     "data": {
      "text/plain": [
       "(0, 0)"
      ]
     },
     "execution_count": 34,
     "metadata": {},
     "output_type": "execute_result"
    }
   ],
   "source": [
    "test_set[test_set[\"categori\"] == \"BAIK\"][\"pm25\"].isnull().sum(), test_set[test_set[\"categori\"] == \"TIDAK BAIK\"][\"pm25\"].isnull().sum()"
   ]
  },
  {
   "attachments": {},
   "cell_type": "markdown",
   "metadata": {},
   "source": [
    "### 4.2.3 Handling others"
   ]
  },
  {
   "cell_type": "code",
   "execution_count": 35,
   "metadata": {},
   "outputs": [
    {
     "data": {
      "text/plain": [
       "{'so2': 35, 'co': 11, 'o3': 29, 'no2': 18}"
      ]
     },
     "execution_count": 35,
     "metadata": {},
     "output_type": "execute_result"
    }
   ],
   "source": [
    "impute_so2 = int(train_set[\"so2\"].mean())\n",
    "impute_co = int(train_set[\"co\"].median())\n",
    "impute_o3 = int(train_set[\"o3\"].median())\n",
    "impute_no2 = int(train_set[\"no2\"].median())\n",
    "\n",
    "impute_values = {\"so2\": impute_so2,\n",
    "                 \"co\": impute_co,\n",
    "                 \"o3\": impute_o3,\n",
    "                 \"no2\": impute_no2}\n",
    "\n",
    "impute_values"
   ]
  },
  {
   "cell_type": "code",
   "execution_count": 36,
   "metadata": {},
   "outputs": [
    {
     "data": {
      "text/plain": [
       "stasiun      0\n",
       "pm10         0\n",
       "pm25         0\n",
       "so2         63\n",
       "co          11\n",
       "o3          33\n",
       "no2         12\n",
       "categori     0\n",
       "dtype: int64"
      ]
     },
     "execution_count": 36,
     "metadata": {},
     "output_type": "execute_result"
    }
   ],
   "source": [
    "train_set.isnull().sum()"
   ]
  },
  {
   "cell_type": "code",
   "execution_count": 37,
   "metadata": {},
   "outputs": [],
   "source": [
    "train_set.fillna(value = impute_values,\n",
    "                 inplace = True)"
   ]
  },
  {
   "cell_type": "code",
   "execution_count": 38,
   "metadata": {},
   "outputs": [
    {
     "data": {
      "text/plain": [
       "stasiun     0\n",
       "pm10        0\n",
       "pm25        0\n",
       "so2         0\n",
       "co          0\n",
       "o3          0\n",
       "no2         0\n",
       "categori    0\n",
       "dtype: int64"
      ]
     },
     "execution_count": 38,
     "metadata": {},
     "output_type": "execute_result"
    }
   ],
   "source": [
    "train_set.isnull().sum()"
   ]
  },
  {
   "cell_type": "code",
   "execution_count": 40,
   "metadata": {},
   "outputs": [
    {
     "data": {
      "text/plain": [
       "stasiun      0\n",
       "pm10         0\n",
       "pm25         0\n",
       "so2         15\n",
       "co           2\n",
       "o3          10\n",
       "no2          2\n",
       "categori     0\n",
       "dtype: int64"
      ]
     },
     "execution_count": 40,
     "metadata": {},
     "output_type": "execute_result"
    }
   ],
   "source": [
    "valid_set.isnull().sum()"
   ]
  },
  {
   "cell_type": "code",
   "execution_count": 41,
   "metadata": {},
   "outputs": [],
   "source": [
    "valid_set.fillna(value = impute_values,\n",
    "                 inplace = True)\n",
    "\n",
    "test_set.fillna(value = impute_values,\n",
    "                inplace = True)"
   ]
  },
  {
   "attachments": {},
   "cell_type": "markdown",
   "metadata": {},
   "source": [
    "# 5. Encoding Stasiun"
   ]
  },
  {
   "attachments": {},
   "cell_type": "markdown",
   "metadata": {},
   "source": [
    "## 5.1 Fit OHE to stasiun data"
   ]
  },
  {
   "cell_type": "code",
   "execution_count": 42,
   "metadata": {},
   "outputs": [],
   "source": [
    "def ohe_fit(data_to_be_fitted: dict, ohe_path: str) -> OneHotEncoder:\n",
    "    # Create ohe object\n",
    "    ohe_stasiun = OneHotEncoder(sparse=False)\n",
    "\n",
    "    # Fit OHE\n",
    "    ohe_stasiun.fit(np.array(data_to_be_fitted).reshape(-1, 1))\n",
    "\n",
    "    # Save ohe object\n",
    "    util.pickle_dump(ohe_stasiun, ohe_path)\n",
    "\n",
    "    return ohe_stasiun\n"
   ]
  },
  {
   "cell_type": "code",
   "execution_count": 44,
   "metadata": {},
   "outputs": [],
   "source": [
    "def ohe_transform(set_data: pd.DataFrame, transformed_column: str, ohe_path: str) -> pd.DataFrame:\n",
    "    # Create a copy\n",
    "    set_data = set_data.copy()\n",
    "\n",
    "    # Load ohe stasiun\n",
    "    ohe_stasiun = util.pickle_load(ohe_path)\n",
    "\n",
    "    # Transform\n",
    "    stasiun_features = ohe_stasiun.transform(np.array(set_data[transformed_column].to_list()).reshape(-1, 1))\n",
    "\n",
    "    # Convert to DF\n",
    "    stasiun_features = pd.DataFrame(stasiun_features.tolist(),\n",
    "                                    columns = list(ohe_stasiun.categories_[0]))\n",
    "    \n",
    "    # Set index\n",
    "    stasiun_features.set_index(set_data.index, inplace = True)\n",
    "\n",
    "    # Concat\n",
    "    set_data = pd.concat([stasiun_features, set_data], axis=1)\n",
    "\n",
    "    # Drop stasiun column\n",
    "    set_data.drop(columns = [\"stasiun\"], inplace = True)\n",
    "\n",
    "    # Convert column\n",
    "    new_col = [str(col_name) for col_name in set_data.columns.to_list()]\n",
    "    set_data.columns = new_col\n",
    "\n",
    "    # return\n",
    "    return set_data"
   ]
  },
  {
   "cell_type": "code",
   "execution_count": 46,
   "metadata": {},
   "outputs": [
    {
     "name": "stderr",
     "output_type": "stream",
     "text": [
      "/home/cahyapacmann/Documents/belajar/ml_process_examples/venv_ml_process/lib/python3.9/site-packages/sklearn/preprocessing/_encoders.py:868: FutureWarning: `sparse` was renamed to `sparse_output` in version 1.2 and will be removed in 1.4. `sparse_output` is ignored unless you leave `sparse` to its default value.\n",
      "  warnings.warn(\n"
     ]
    },
    {
     "data": {
      "text/html": [
       "<style>#sk-container-id-1 {color: black;background-color: white;}#sk-container-id-1 pre{padding: 0;}#sk-container-id-1 div.sk-toggleable {background-color: white;}#sk-container-id-1 label.sk-toggleable__label {cursor: pointer;display: block;width: 100%;margin-bottom: 0;padding: 0.3em;box-sizing: border-box;text-align: center;}#sk-container-id-1 label.sk-toggleable__label-arrow:before {content: \"▸\";float: left;margin-right: 0.25em;color: #696969;}#sk-container-id-1 label.sk-toggleable__label-arrow:hover:before {color: black;}#sk-container-id-1 div.sk-estimator:hover label.sk-toggleable__label-arrow:before {color: black;}#sk-container-id-1 div.sk-toggleable__content {max-height: 0;max-width: 0;overflow: hidden;text-align: left;background-color: #f0f8ff;}#sk-container-id-1 div.sk-toggleable__content pre {margin: 0.2em;color: black;border-radius: 0.25em;background-color: #f0f8ff;}#sk-container-id-1 input.sk-toggleable__control:checked~div.sk-toggleable__content {max-height: 200px;max-width: 100%;overflow: auto;}#sk-container-id-1 input.sk-toggleable__control:checked~label.sk-toggleable__label-arrow:before {content: \"▾\";}#sk-container-id-1 div.sk-estimator input.sk-toggleable__control:checked~label.sk-toggleable__label {background-color: #d4ebff;}#sk-container-id-1 div.sk-label input.sk-toggleable__control:checked~label.sk-toggleable__label {background-color: #d4ebff;}#sk-container-id-1 input.sk-hidden--visually {border: 0;clip: rect(1px 1px 1px 1px);clip: rect(1px, 1px, 1px, 1px);height: 1px;margin: -1px;overflow: hidden;padding: 0;position: absolute;width: 1px;}#sk-container-id-1 div.sk-estimator {font-family: monospace;background-color: #f0f8ff;border: 1px dotted black;border-radius: 0.25em;box-sizing: border-box;margin-bottom: 0.5em;}#sk-container-id-1 div.sk-estimator:hover {background-color: #d4ebff;}#sk-container-id-1 div.sk-parallel-item::after {content: \"\";width: 100%;border-bottom: 1px solid gray;flex-grow: 1;}#sk-container-id-1 div.sk-label:hover label.sk-toggleable__label {background-color: #d4ebff;}#sk-container-id-1 div.sk-serial::before {content: \"\";position: absolute;border-left: 1px solid gray;box-sizing: border-box;top: 0;bottom: 0;left: 50%;z-index: 0;}#sk-container-id-1 div.sk-serial {display: flex;flex-direction: column;align-items: center;background-color: white;padding-right: 0.2em;padding-left: 0.2em;position: relative;}#sk-container-id-1 div.sk-item {position: relative;z-index: 1;}#sk-container-id-1 div.sk-parallel {display: flex;align-items: stretch;justify-content: center;background-color: white;position: relative;}#sk-container-id-1 div.sk-item::before, #sk-container-id-1 div.sk-parallel-item::before {content: \"\";position: absolute;border-left: 1px solid gray;box-sizing: border-box;top: 0;bottom: 0;left: 50%;z-index: -1;}#sk-container-id-1 div.sk-parallel-item {display: flex;flex-direction: column;z-index: 1;position: relative;background-color: white;}#sk-container-id-1 div.sk-parallel-item:first-child::after {align-self: flex-end;width: 50%;}#sk-container-id-1 div.sk-parallel-item:last-child::after {align-self: flex-start;width: 50%;}#sk-container-id-1 div.sk-parallel-item:only-child::after {width: 0;}#sk-container-id-1 div.sk-dashed-wrapped {border: 1px dashed gray;margin: 0 0.4em 0.5em 0.4em;box-sizing: border-box;padding-bottom: 0.4em;background-color: white;}#sk-container-id-1 div.sk-label label {font-family: monospace;font-weight: bold;display: inline-block;line-height: 1.2em;}#sk-container-id-1 div.sk-label-container {text-align: center;}#sk-container-id-1 div.sk-container {/* jupyter's `normalize.less` sets `[hidden] { display: none; }` but bootstrap.min.css set `[hidden] { display: none !important; }` so we also need the `!important` here to be able to override the default hidden behavior on the sphinx rendered scikit-learn.org. See: https://github.com/scikit-learn/scikit-learn/issues/21755 */display: inline-block !important;position: relative;}#sk-container-id-1 div.sk-text-repr-fallback {display: none;}</style><div id=\"sk-container-id-1\" class=\"sk-top-container\"><div class=\"sk-text-repr-fallback\"><pre>OneHotEncoder(sparse=False, sparse_output=False)</pre><b>In a Jupyter environment, please rerun this cell to show the HTML representation or trust the notebook. <br />On GitHub, the HTML representation is unable to render, please try loading this page with nbviewer.org.</b></div><div class=\"sk-container\" hidden><div class=\"sk-item\"><div class=\"sk-estimator sk-toggleable\"><input class=\"sk-toggleable__control sk-hidden--visually\" id=\"sk-estimator-id-1\" type=\"checkbox\" checked><label for=\"sk-estimator-id-1\" class=\"sk-toggleable__label sk-toggleable__label-arrow\">OneHotEncoder</label><div class=\"sk-toggleable__content\"><pre>OneHotEncoder(sparse=False, sparse_output=False)</pre></div></div></div></div></div>"
      ],
      "text/plain": [
       "OneHotEncoder(sparse=False, sparse_output=False)"
      ]
     },
     "execution_count": 46,
     "metadata": {},
     "output_type": "execute_result"
    }
   ],
   "source": [
    "ohe_stasiun = ohe_fit(config_data[\"range_stasiun\"], config_data[\"ohe_stasiun_path\"])\n",
    "ohe_stasiun"
   ]
  },
  {
   "cell_type": "code",
   "execution_count": 47,
   "metadata": {},
   "outputs": [
    {
     "data": {
      "text/html": [
       "<div>\n",
       "<style scoped>\n",
       "    .dataframe tbody tr th:only-of-type {\n",
       "        vertical-align: middle;\n",
       "    }\n",
       "\n",
       "    .dataframe tbody tr th {\n",
       "        vertical-align: top;\n",
       "    }\n",
       "\n",
       "    .dataframe thead th {\n",
       "        text-align: right;\n",
       "    }\n",
       "</style>\n",
       "<table border=\"1\" class=\"dataframe\">\n",
       "  <thead>\n",
       "    <tr style=\"text-align: right;\">\n",
       "      <th></th>\n",
       "      <th>DKI1 (Bunderan HI)</th>\n",
       "      <th>DKI2 (Kelapa Gading)</th>\n",
       "      <th>DKI3 (Jagakarsa)</th>\n",
       "      <th>DKI4 (Lubang Buaya)</th>\n",
       "      <th>DKI5 (Kebon Jeruk) Jakarta Barat</th>\n",
       "      <th>pm10</th>\n",
       "      <th>pm25</th>\n",
       "      <th>so2</th>\n",
       "      <th>co</th>\n",
       "      <th>o3</th>\n",
       "      <th>no2</th>\n",
       "      <th>categori</th>\n",
       "    </tr>\n",
       "  </thead>\n",
       "  <tbody>\n",
       "    <tr>\n",
       "      <th>983</th>\n",
       "      <td>0.0</td>\n",
       "      <td>0.0</td>\n",
       "      <td>1.0</td>\n",
       "      <td>0.0</td>\n",
       "      <td>0.0</td>\n",
       "      <td>59.0</td>\n",
       "      <td>88.0</td>\n",
       "      <td>49.0</td>\n",
       "      <td>7.0</td>\n",
       "      <td>23.0</td>\n",
       "      <td>15.0</td>\n",
       "      <td>TIDAK BAIK</td>\n",
       "    </tr>\n",
       "    <tr>\n",
       "      <th>1717</th>\n",
       "      <td>0.0</td>\n",
       "      <td>1.0</td>\n",
       "      <td>0.0</td>\n",
       "      <td>0.0</td>\n",
       "      <td>0.0</td>\n",
       "      <td>54.0</td>\n",
       "      <td>78.0</td>\n",
       "      <td>35.0</td>\n",
       "      <td>16.0</td>\n",
       "      <td>52.0</td>\n",
       "      <td>25.0</td>\n",
       "      <td>TIDAK BAIK</td>\n",
       "    </tr>\n",
       "    <tr>\n",
       "      <th>1021</th>\n",
       "      <td>0.0</td>\n",
       "      <td>0.0</td>\n",
       "      <td>0.0</td>\n",
       "      <td>1.0</td>\n",
       "      <td>0.0</td>\n",
       "      <td>47.0</td>\n",
       "      <td>84.0</td>\n",
       "      <td>33.0</td>\n",
       "      <td>16.0</td>\n",
       "      <td>21.0</td>\n",
       "      <td>22.0</td>\n",
       "      <td>TIDAK BAIK</td>\n",
       "    </tr>\n",
       "    <tr>\n",
       "      <th>1608</th>\n",
       "      <td>0.0</td>\n",
       "      <td>0.0</td>\n",
       "      <td>1.0</td>\n",
       "      <td>0.0</td>\n",
       "      <td>0.0</td>\n",
       "      <td>45.0</td>\n",
       "      <td>64.0</td>\n",
       "      <td>52.0</td>\n",
       "      <td>8.0</td>\n",
       "      <td>33.0</td>\n",
       "      <td>13.0</td>\n",
       "      <td>TIDAK BAIK</td>\n",
       "    </tr>\n",
       "    <tr>\n",
       "      <th>1055</th>\n",
       "      <td>0.0</td>\n",
       "      <td>0.0</td>\n",
       "      <td>0.0</td>\n",
       "      <td>0.0</td>\n",
       "      <td>1.0</td>\n",
       "      <td>45.0</td>\n",
       "      <td>70.0</td>\n",
       "      <td>39.0</td>\n",
       "      <td>8.0</td>\n",
       "      <td>16.0</td>\n",
       "      <td>22.0</td>\n",
       "      <td>TIDAK BAIK</td>\n",
       "    </tr>\n",
       "  </tbody>\n",
       "</table>\n",
       "</div>"
      ],
      "text/plain": [
       "      DKI1 (Bunderan HI)  DKI2 (Kelapa Gading)  DKI3 (Jagakarsa)   \n",
       "983                  0.0                   0.0               1.0  \\\n",
       "1717                 0.0                   1.0               0.0   \n",
       "1021                 0.0                   0.0               0.0   \n",
       "1608                 0.0                   0.0               1.0   \n",
       "1055                 0.0                   0.0               0.0   \n",
       "\n",
       "      DKI4 (Lubang Buaya)  DKI5 (Kebon Jeruk) Jakarta Barat  pm10  pm25   so2   \n",
       "983                   0.0                               0.0  59.0  88.0  49.0  \\\n",
       "1717                  0.0                               0.0  54.0  78.0  35.0   \n",
       "1021                  1.0                               0.0  47.0  84.0  33.0   \n",
       "1608                  0.0                               0.0  45.0  64.0  52.0   \n",
       "1055                  0.0                               1.0  45.0  70.0  39.0   \n",
       "\n",
       "        co    o3   no2    categori  \n",
       "983    7.0  23.0  15.0  TIDAK BAIK  \n",
       "1717  16.0  52.0  25.0  TIDAK BAIK  \n",
       "1021  16.0  21.0  22.0  TIDAK BAIK  \n",
       "1608   8.0  33.0  13.0  TIDAK BAIK  \n",
       "1055   8.0  16.0  22.0  TIDAK BAIK  "
      ]
     },
     "execution_count": 47,
     "metadata": {},
     "output_type": "execute_result"
    }
   ],
   "source": [
    "train_set = ohe_transform(train_set, \"stasiun\", config_data[\"ohe_stasiun_path\"])\n",
    "train_set.head()"
   ]
  },
  {
   "cell_type": "code",
   "execution_count": 48,
   "metadata": {},
   "outputs": [],
   "source": [
    "valid_set = ohe_transform(valid_set, \"stasiun\", config_data[\"ohe_stasiun_path\"])\n",
    "test_set = ohe_transform(test_set, \"stasiun\", config_data[\"ohe_stasiun_path\"])"
   ]
  },
  {
   "attachments": {},
   "cell_type": "markdown",
   "metadata": {},
   "source": [
    "# 6. Balancing Label"
   ]
  },
  {
   "cell_type": "code",
   "execution_count": 49,
   "metadata": {},
   "outputs": [
    {
     "data": {
      "text/plain": [
       "<Axes: xlabel='categori', ylabel='Count'>"
      ]
     },
     "execution_count": 49,
     "metadata": {},
     "output_type": "execute_result"
    },
    {
     "data": {
      "image/png": "[encoded data removed]",
      "text/plain": [
       "<Figure size 640x480 with 1 Axes>"
      ]
     },
     "metadata": {},
     "output_type": "display_data"
    }
   ],
   "source": [
    "sns.histplot(data = train_set, x = \"categori\", hue = \"categori\")"
   ]
  },
  {
   "attachments": {},
   "cell_type": "markdown",
   "metadata": {},
   "source": [
    "## 6.1. Undersampling"
   ]
  },
  {
   "cell_type": "code",
   "execution_count": 50,
   "metadata": {},
   "outputs": [],
   "source": [
    "def rus_fit_resample(set_data: pd.DataFrame) -> pd.DataFrame:\n",
    "    set_data = set_data.copy()\n",
    "\n",
    "    # Create sampling object\n",
    "    rus = RandomUnderSampler(random_state = 26)\n",
    "\n",
    "    # Balancing set_data\n",
    "    X_rus, y_rus = rus.fit_resample(set_data.drop(columns = [\"categori\"], axis=1), set_data[\"categori\"])\n",
    "\n",
    "    # Concat data\n",
    "    set_data_rus = pd.concat([X_rus, y_rus], axis=1)\n",
    "\n",
    "    return set_data_rus"
   ]
  },
  {
   "cell_type": "code",
   "execution_count": 51,
   "metadata": {},
   "outputs": [],
   "source": [
    "train_set_rus = rus_fit_resample(train_set)"
   ]
  },
  {
   "cell_type": "code",
   "execution_count": 52,
   "metadata": {},
   "outputs": [
    {
     "data": {
      "text/plain": [
       "<Axes: xlabel='categori', ylabel='Count'>"
      ]
     },
     "execution_count": 52,
     "metadata": {},
     "output_type": "execute_result"
    },
    {
     "data": {
      "image/png": "[encoded data removed]",
      "text/plain": [
       "<Figure size 640x480 with 1 Axes>"
      ]
     },
     "metadata": {},
     "output_type": "display_data"
    }
   ],
   "source": [
    "sns.histplot(data = train_set_rus, x = \"categori\", hue = \"categori\")"
   ]
  },
  {
   "attachments": {},
   "cell_type": "markdown",
   "metadata": {},
   "source": [
    "## 6.2. Oversampling"
   ]
  },
  {
   "cell_type": "code",
   "execution_count": 53,
   "metadata": {},
   "outputs": [],
   "source": [
    "def ros_fit_resample(set_data: pd.DataFrame) -> pd.DataFrame:\n",
    "    set_data = set_data.copy()\n",
    "\n",
    "    # Create sampling object\n",
    "    ros = RandomOverSampler(random_state = 11)\n",
    "\n",
    "    # Balancing set_data\n",
    "    X_ros, y_ros = ros.fit_resample(set_data.drop(columns = [\"categori\"], axis=1), set_data[\"categori\"])\n",
    "\n",
    "    # Concat data\n",
    "    set_data_ros = pd.concat([X_ros, y_ros], axis=1)\n",
    "\n",
    "    return set_data_ros"
   ]
  },
  {
   "cell_type": "code",
   "execution_count": 54,
   "metadata": {},
   "outputs": [],
   "source": [
    "train_set_ros = ros_fit_resample(train_set)"
   ]
  },
  {
   "cell_type": "code",
   "execution_count": 55,
   "metadata": {},
   "outputs": [
    {
     "data": {
      "text/plain": [
       "<Axes: xlabel='categori', ylabel='Count'>"
      ]
     },
     "execution_count": 55,
     "metadata": {},
     "output_type": "execute_result"
    },
    {
     "data": {
      "image/png": "[encoded data removed]",
      "text/plain": [
       "<Figure size 640x480 with 1 Axes>"
      ]
     },
     "metadata": {},
     "output_type": "display_data"
    }
   ],
   "source": [
    "sns.histplot(data = train_set_ros, x = \"categori\", hue = \"categori\")"
   ]
  },
  {
   "attachments": {},
   "cell_type": "markdown",
   "metadata": {},
   "source": [
    "## 6.3. Smote"
   ]
  },
  {
   "cell_type": "code",
   "execution_count": 56,
   "metadata": {},
   "outputs": [],
   "source": [
    "def sm_fit_resample(set_data: pd.DataFrame) -> pd.DataFrame:\n",
    "    set_data = set_data.copy()\n",
    "\n",
    "    # Create sampling object\n",
    "    sm = SMOTE(random_state = 112)\n",
    "\n",
    "    # Balancing set_data\n",
    "    X_sm, y_sm = sm.fit_resample(set_data.drop(columns = [\"categori\"], axis=1), set_data[\"categori\"])\n",
    "\n",
    "    # Concat data\n",
    "    set_data_sm = pd.concat([X_sm, y_sm], axis=1)\n",
    "\n",
    "    return set_data_sm"
   ]
  },
  {
   "cell_type": "code",
   "execution_count": 57,
   "metadata": {},
   "outputs": [],
   "source": [
    "train_set_sm = sm_fit_resample(train_set)"
   ]
  },
  {
   "cell_type": "code",
   "execution_count": 58,
   "metadata": {},
   "outputs": [
    {
     "data": {
      "text/plain": [
       "<Axes: xlabel='categori', ylabel='Count'>"
      ]
     },
     "execution_count": 58,
     "metadata": {},
     "output_type": "execute_result"
    },
    {
     "data": {
      "image/png": "[encoded data removed]",
      "text/plain": [
       "<Figure size 640x480 with 1 Axes>"
      ]
     },
     "metadata": {},
     "output_type": "display_data"
    }
   ],
   "source": [
    "sns.histplot(data = train_set_sm, x = \"categori\", hue = \"categori\")"
   ]
  },
  {
   "attachments": {},
   "cell_type": "markdown",
   "metadata": {},
   "source": [
    "# 7. Label Encoder"
   ]
  },
  {
   "cell_type": "code",
   "execution_count": 59,
   "metadata": {},
   "outputs": [],
   "source": [
    "def le_fit(data_to_be_fitted: dict, le_path: str) -> LabelEncoder:\n",
    "    le_encoder = LabelEncoder()\n",
    "\n",
    "    # Fit\n",
    "    le_encoder.fit(data_to_be_fitted)\n",
    "\n",
    "    # Save le object\n",
    "    util.pickle_dump(le_encoder, le_path)\n",
    "\n",
    "    return le_encoder"
   ]
  },
  {
   "cell_type": "code",
   "execution_count": 60,
   "metadata": {},
   "outputs": [],
   "source": [
    "le_encoder = le_fit(config_data[\"label_categories_new\"], config_data[\"le_encoder_path\"])"
   ]
  },
  {
   "cell_type": "code",
   "execution_count": 61,
   "metadata": {},
   "outputs": [],
   "source": [
    "def le_transform(label_data: pd.Series, config_data: dict) -> pd.Series:\n",
    "    label_data = label_data.copy()\n",
    "\n",
    "    le_encoder = util.pickle_load(config_data[\"le_encoder_path\"])\n",
    "\n",
    "    if len(set(label_data.unique())-set(le_encoder.classes_) | set(le_encoder.classes_)-set(label_data.unique())) == 0:\n",
    "        label_data = le_encoder.transform(label_data)\n",
    "    else:\n",
    "        raise RuntimeError(\"Check category in label data and label encoder\")\n",
    "    \n",
    "    return label_data"
   ]
  },
  {
   "cell_type": "code",
   "execution_count": 62,
   "metadata": {},
   "outputs": [],
   "source": [
    "train_set_rus[\"categori\"] = le_transform(train_set_rus[\"categori\"], config_data)"
   ]
  },
  {
   "cell_type": "code",
   "execution_count": 63,
   "metadata": {},
   "outputs": [],
   "source": [
    "train_set_ros[\"categori\"] = le_transform(train_set_ros[\"categori\"], config_data)\n",
    "train_set_sm[\"categori\"] = le_transform(train_set_sm[\"categori\"], config_data)\n",
    "valid_set[\"categori\"] = le_transform(valid_set[\"categori\"], config_data)\n",
    "test_set[\"categori\"] = le_transform(test_set[\"categori\"], config_data)"
   ]
  },
  {
   "cell_type": "code",
   "execution_count": 64,
   "metadata": {},
   "outputs": [
    {
     "data": {
      "text/html": [
       "<div>\n",
       "<style scoped>\n",
       "    .dataframe tbody tr th:only-of-type {\n",
       "        vertical-align: middle;\n",
       "    }\n",
       "\n",
       "    .dataframe tbody tr th {\n",
       "        vertical-align: top;\n",
       "    }\n",
       "\n",
       "    .dataframe thead th {\n",
       "        text-align: right;\n",
       "    }\n",
       "</style>\n",
       "<table border=\"1\" class=\"dataframe\">\n",
       "  <thead>\n",
       "    <tr style=\"text-align: right;\">\n",
       "      <th></th>\n",
       "      <th>DKI1 (Bunderan HI)</th>\n",
       "      <th>DKI2 (Kelapa Gading)</th>\n",
       "      <th>DKI3 (Jagakarsa)</th>\n",
       "      <th>DKI4 (Lubang Buaya)</th>\n",
       "      <th>DKI5 (Kebon Jeruk) Jakarta Barat</th>\n",
       "      <th>pm10</th>\n",
       "      <th>pm25</th>\n",
       "      <th>so2</th>\n",
       "      <th>co</th>\n",
       "      <th>o3</th>\n",
       "      <th>no2</th>\n",
       "      <th>categori</th>\n",
       "    </tr>\n",
       "  </thead>\n",
       "  <tbody>\n",
       "    <tr>\n",
       "      <th>24</th>\n",
       "      <td>1.0</td>\n",
       "      <td>0.0</td>\n",
       "      <td>0.0</td>\n",
       "      <td>0.0</td>\n",
       "      <td>0.0</td>\n",
       "      <td>44.0</td>\n",
       "      <td>60.0</td>\n",
       "      <td>23.0</td>\n",
       "      <td>15.0</td>\n",
       "      <td>23.0</td>\n",
       "      <td>35.0</td>\n",
       "      <td>1</td>\n",
       "    </tr>\n",
       "    <tr>\n",
       "      <th>1700</th>\n",
       "      <td>1.0</td>\n",
       "      <td>0.0</td>\n",
       "      <td>0.0</td>\n",
       "      <td>0.0</td>\n",
       "      <td>0.0</td>\n",
       "      <td>34.0</td>\n",
       "      <td>56.0</td>\n",
       "      <td>32.0</td>\n",
       "      <td>12.0</td>\n",
       "      <td>9.0</td>\n",
       "      <td>7.0</td>\n",
       "      <td>1</td>\n",
       "    </tr>\n",
       "    <tr>\n",
       "      <th>1508</th>\n",
       "      <td>0.0</td>\n",
       "      <td>0.0</td>\n",
       "      <td>0.0</td>\n",
       "      <td>0.0</td>\n",
       "      <td>1.0</td>\n",
       "      <td>62.0</td>\n",
       "      <td>108.0</td>\n",
       "      <td>32.0</td>\n",
       "      <td>13.0</td>\n",
       "      <td>32.0</td>\n",
       "      <td>19.0</td>\n",
       "      <td>1</td>\n",
       "    </tr>\n",
       "    <tr>\n",
       "      <th>224</th>\n",
       "      <td>0.0</td>\n",
       "      <td>0.0</td>\n",
       "      <td>1.0</td>\n",
       "      <td>0.0</td>\n",
       "      <td>0.0</td>\n",
       "      <td>57.0</td>\n",
       "      <td>84.0</td>\n",
       "      <td>47.0</td>\n",
       "      <td>9.0</td>\n",
       "      <td>26.0</td>\n",
       "      <td>13.0</td>\n",
       "      <td>1</td>\n",
       "    </tr>\n",
       "    <tr>\n",
       "      <th>1193</th>\n",
       "      <td>0.0</td>\n",
       "      <td>0.0</td>\n",
       "      <td>0.0</td>\n",
       "      <td>0.0</td>\n",
       "      <td>1.0</td>\n",
       "      <td>53.0</td>\n",
       "      <td>91.0</td>\n",
       "      <td>27.0</td>\n",
       "      <td>21.0</td>\n",
       "      <td>17.0</td>\n",
       "      <td>39.0</td>\n",
       "      <td>1</td>\n",
       "    </tr>\n",
       "    <tr>\n",
       "      <th>...</th>\n",
       "      <td>...</td>\n",
       "      <td>...</td>\n",
       "      <td>...</td>\n",
       "      <td>...</td>\n",
       "      <td>...</td>\n",
       "      <td>...</td>\n",
       "      <td>...</td>\n",
       "      <td>...</td>\n",
       "      <td>...</td>\n",
       "      <td>...</td>\n",
       "      <td>...</td>\n",
       "      <td>...</td>\n",
       "    </tr>\n",
       "    <tr>\n",
       "      <th>309</th>\n",
       "      <td>0.0</td>\n",
       "      <td>0.0</td>\n",
       "      <td>0.0</td>\n",
       "      <td>0.0</td>\n",
       "      <td>1.0</td>\n",
       "      <td>60.0</td>\n",
       "      <td>92.0</td>\n",
       "      <td>30.0</td>\n",
       "      <td>7.0</td>\n",
       "      <td>32.0</td>\n",
       "      <td>14.0</td>\n",
       "      <td>1</td>\n",
       "    </tr>\n",
       "    <tr>\n",
       "      <th>1389</th>\n",
       "      <td>1.0</td>\n",
       "      <td>0.0</td>\n",
       "      <td>0.0</td>\n",
       "      <td>0.0</td>\n",
       "      <td>0.0</td>\n",
       "      <td>56.0</td>\n",
       "      <td>83.0</td>\n",
       "      <td>25.0</td>\n",
       "      <td>12.0</td>\n",
       "      <td>21.0</td>\n",
       "      <td>30.0</td>\n",
       "      <td>1</td>\n",
       "    </tr>\n",
       "    <tr>\n",
       "      <th>209</th>\n",
       "      <td>0.0</td>\n",
       "      <td>1.0</td>\n",
       "      <td>0.0</td>\n",
       "      <td>0.0</td>\n",
       "      <td>0.0</td>\n",
       "      <td>69.0</td>\n",
       "      <td>101.0</td>\n",
       "      <td>52.0</td>\n",
       "      <td>9.0</td>\n",
       "      <td>41.0</td>\n",
       "      <td>18.0</td>\n",
       "      <td>1</td>\n",
       "    </tr>\n",
       "    <tr>\n",
       "      <th>1604</th>\n",
       "      <td>0.0</td>\n",
       "      <td>0.0</td>\n",
       "      <td>1.0</td>\n",
       "      <td>0.0</td>\n",
       "      <td>0.0</td>\n",
       "      <td>59.0</td>\n",
       "      <td>87.0</td>\n",
       "      <td>52.0</td>\n",
       "      <td>13.0</td>\n",
       "      <td>39.0</td>\n",
       "      <td>21.0</td>\n",
       "      <td>1</td>\n",
       "    </tr>\n",
       "    <tr>\n",
       "      <th>1224</th>\n",
       "      <td>1.0</td>\n",
       "      <td>0.0</td>\n",
       "      <td>0.0</td>\n",
       "      <td>0.0</td>\n",
       "      <td>0.0</td>\n",
       "      <td>46.0</td>\n",
       "      <td>59.0</td>\n",
       "      <td>43.0</td>\n",
       "      <td>14.0</td>\n",
       "      <td>19.0</td>\n",
       "      <td>12.0</td>\n",
       "      <td>1</td>\n",
       "    </tr>\n",
       "  </tbody>\n",
       "</table>\n",
       "<p>362 rows × 12 columns</p>\n",
       "</div>"
      ],
      "text/plain": [
       "      DKI1 (Bunderan HI)  DKI2 (Kelapa Gading)  DKI3 (Jagakarsa)   \n",
       "24                   1.0                   0.0               0.0  \\\n",
       "1700                 1.0                   0.0               0.0   \n",
       "1508                 0.0                   0.0               0.0   \n",
       "224                  0.0                   0.0               1.0   \n",
       "1193                 0.0                   0.0               0.0   \n",
       "...                  ...                   ...               ...   \n",
       "309                  0.0                   0.0               0.0   \n",
       "1389                 1.0                   0.0               0.0   \n",
       "209                  0.0                   1.0               0.0   \n",
       "1604                 0.0                   0.0               1.0   \n",
       "1224                 1.0                   0.0               0.0   \n",
       "\n",
       "      DKI4 (Lubang Buaya)  DKI5 (Kebon Jeruk) Jakarta Barat  pm10   pm25   \n",
       "24                    0.0                               0.0  44.0   60.0  \\\n",
       "1700                  0.0                               0.0  34.0   56.0   \n",
       "1508                  0.0                               1.0  62.0  108.0   \n",
       "224                   0.0                               0.0  57.0   84.0   \n",
       "1193                  0.0                               1.0  53.0   91.0   \n",
       "...                   ...                               ...   ...    ...   \n",
       "309                   0.0                               1.0  60.0   92.0   \n",
       "1389                  0.0                               0.0  56.0   83.0   \n",
       "209                   0.0                               0.0  69.0  101.0   \n",
       "1604                  0.0                               0.0  59.0   87.0   \n",
       "1224                  0.0                               0.0  46.0   59.0   \n",
       "\n",
       "       so2    co    o3   no2  categori  \n",
       "24    23.0  15.0  23.0  35.0         1  \n",
       "1700  32.0  12.0   9.0   7.0         1  \n",
       "1508  32.0  13.0  32.0  19.0         1  \n",
       "224   47.0   9.0  26.0  13.0         1  \n",
       "1193  27.0  21.0  17.0  39.0         1  \n",
       "...    ...   ...   ...   ...       ...  \n",
       "309   30.0   7.0  32.0  14.0         1  \n",
       "1389  25.0  12.0  21.0  30.0         1  \n",
       "209   52.0   9.0  41.0  18.0         1  \n",
       "1604  52.0  13.0  39.0  21.0         1  \n",
       "1224  43.0  14.0  19.0  12.0         1  \n",
       "\n",
       "[362 rows x 12 columns]"
      ]
     },
     "execution_count": 64,
     "metadata": {},
     "output_type": "execute_result"
    }
   ],
   "source": [
    "test_set"
   ]
  },
  {
   "attachments": {},
   "cell_type": "markdown",
   "metadata": {},
   "source": [
    "# 8. Dump Dataset"
   ]
  },
  {
   "cell_type": "code",
   "execution_count": 65,
   "metadata": {},
   "outputs": [],
   "source": [
    "X_train = {\n",
    "    \"Undersampling\": train_set_rus.drop(columns = [\"categori\"]),\n",
    "    \"Oversampling\": train_set_ros.drop(columns = [\"categori\"]),\n",
    "    \"SMOTE\": train_set_sm.drop(columns = [\"categori\"])\n",
    "}\n",
    "\n",
    "y_train = {\n",
    "    \"Undersampling\": train_set_rus[\"categori\"],\n",
    "    \"Oversampling\": train_set_ros[\"categori\"],\n",
    "    \"SMOTE\": train_set_sm[\"categori\"]\n",
    "}"
   ]
  },
  {
   "cell_type": "code",
   "execution_count": 67,
   "metadata": {},
   "outputs": [],
   "source": [
    "util.pickle_dump(X_train, config_data[\"train_feng_set_path\"][0])\n",
    "util.pickle_dump(y_train, config_data[\"train_feng_set_path\"][1])\n",
    "\n",
    "util.pickle_dump(valid_set.drop(columns = [\"categori\"], axis=1), config_data[\"valid_feng_set_path\"][0])\n",
    "util.pickle_dump(valid_set[\"categori\"], config_data[\"valid_feng_set_path\"][1])\n",
    "\n",
    "util.pickle_dump(test_set.drop(columns = [\"categori\"], axis=1), config_data[\"test_feng_set_path\"][0])\n",
    "util.pickle_dump(test_set[\"categori\"], config_data[\"test_feng_set_path\"][1])"
   ]
  },
  {
   "cell_type": "code",
   "execution_count": null,
   "metadata": {},
   "outputs": [],
   "source": []
  }
 ],
 "metadata": {
  "kernelspec": {
   "display_name": "venv_ml_process",
   "language": "python",
   "name": "python3"
  },
  "language_info": {
   "codemirror_mode": {
    "name": "ipython",
    "version": 3
   },
   "file_extension": ".py",
   "mimetype": "text/x-python",
   "name": "python",
   "nbconvert_exporter": "python",
   "pygments_lexer": "ipython3",
   "version": "3.9.12"
  },
  "orig_nbformat": 4
 },
 "nbformat": 4,
 "nbformat_minor": 2
}
