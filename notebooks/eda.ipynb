{
 "cells": [
  {
   "cell_type": "code",
   "execution_count": 20,
   "metadata": {},
   "outputs": [],
   "source": [
    "import pandas as pd\n",
    "import numpy as np\n",
    "import seaborn as sns\n",
    "import scipy.stats as scs\n",
    "import joblib\n",
    "import yaml\n",
    "import matplotlib.pyplot as plt"
   ]
  },
  {
   "attachments": {},
   "cell_type": "markdown",
   "metadata": {},
   "source": [
    "# 1. Import Params"
   ]
  },
  {
   "cell_type": "code",
   "execution_count": 21,
   "metadata": {},
   "outputs": [],
   "source": [
    "params_dir = \"../config/config.yaml\""
   ]
  },
  {
   "cell_type": "code",
   "execution_count": 22,
   "metadata": {},
   "outputs": [],
   "source": [
    "def load_params(param_dir):\n",
    "    with open(param_dir, \"r\") as file:\n",
    "        params = yaml.safe_load(file)\n",
    "\n",
    "    return params"
   ]
  },
  {
   "cell_type": "code",
   "execution_count": 23,
   "metadata": {},
   "outputs": [],
   "source": [
    "params = load_params(params_dir)"
   ]
  },
  {
   "cell_type": "code",
   "execution_count": 24,
   "metadata": {},
   "outputs": [
    {
     "data": {
      "text/plain": [
       "{'raw_dataset_dir': 'data/raw/',\n",
       " 'train_set_path': ['data/processed/X_train.pkl',\n",
       "  'data/processed/y_train.pkl'],\n",
       " 'valid_set_path': ['data/processed/X_valid.pkl',\n",
       "  'data/processed/y_valid.pkl'],\n",
       " 'test_set_path': ['data/processed/X_test.pkl', 'data/processed/y_test.pkl'],\n",
       " 'train_feng_set_path': ['data/processed/X_train_feng.pkl',\n",
       "  'data/processed/y_train_feng.pkl'],\n",
       " 'valid_feng_set_path': ['data/processed/X_valid_feng.pkl',\n",
       "  'data/processed/y_valid_feng.pkl'],\n",
       " 'test_feng_set_path': ['data/processed/X_test_feng.pkl',\n",
       "  'data/processed/y_test_feng.pkl'],\n",
       " 'raw_dataset_path': 'data/processed/raw_dataset.pkl',\n",
       " 'cleaned_raw_dataset_path': 'data/processed/cleaned_raw_dataset.pkl',\n",
       " 'production_model_path': 'models/production_model.pkl',\n",
       " 'ohe_stasiun_path': 'models/ohe_stasiun.pkl',\n",
       " 'le_encoder_path': 'models/le_encoder.pkl',\n",
       " 'training_log_path': 'log/training_log.json',\n",
       " 'print_debug': True,\n",
       " 'datetime_columns': ['tanggal'],\n",
       " 'int64_columns': ['pm10', 'pm25', 'so2', 'co', 'o3', 'no2', 'max'],\n",
       " 'object_columns': ['stasiun', 'critical', 'categori'],\n",
       " 'label': 'categori',\n",
       " 'predictors': ['stasiun', 'pm10', 'pm25', 'so2', 'co', 'o3', 'no2'],\n",
       " 'range_stasiun': ['DKI1 (Bunderan HI)',\n",
       "  'DKI2 (Kelapa Gading)',\n",
       "  'DKI3 (Jagakarsa)',\n",
       "  'DKI4 (Lubang Buaya)',\n",
       "  'DKI5 (Kebon Jeruk) Jakarta Barat'],\n",
       " 'range_pm10': [-1, 800],\n",
       " 'range_pm25': [-1, 400],\n",
       " 'range_so2': [-1, 500],\n",
       " 'range_co': [-1, 100],\n",
       " 'range_o3': [-1, 160],\n",
       " 'range_no2': [-1, 100],\n",
       " 'label_categories': ['BAIK', 'SEDANG', 'TIDAK SEHAT'],\n",
       " 'label_categories_new': ['BAIK', 'TIDAK BAIK'],\n",
       " 'missing_value_pm10': {'BAIK': 28, 'TIDAK BAIK': 82},\n",
       " 'missing_value_pm25': {'BAIK': 38, 'TIDAK BAIK': 82},\n",
       " 'missing_value_so2': 35,\n",
       " 'missing_value_co': 11,\n",
       " 'missing_value_o3': 29,\n",
       " 'missing_value_no2': 18}"
      ]
     },
     "execution_count": 24,
     "metadata": {},
     "output_type": "execute_result"
    }
   ],
   "source": [
    "params"
   ]
  },
  {
   "attachments": {},
   "cell_type": "markdown",
   "metadata": {},
   "source": [
    "# 2. Load Train Set"
   ]
  },
  {
   "cell_type": "code",
   "execution_count": 26,
   "metadata": {},
   "outputs": [],
   "source": [
    "X_train = joblib.load(\"../data/processed/X_train.pkl\")\n",
    "y_train = joblib.load(\"../data/processed/y_train.pkl\")"
   ]
  },
  {
   "cell_type": "code",
   "execution_count": 27,
   "metadata": {},
   "outputs": [
    {
     "data": {
      "text/html": [
       "<div>\n",
       "<style scoped>\n",
       "    .dataframe tbody tr th:only-of-type {\n",
       "        vertical-align: middle;\n",
       "    }\n",
       "\n",
       "    .dataframe tbody tr th {\n",
       "        vertical-align: top;\n",
       "    }\n",
       "\n",
       "    .dataframe thead th {\n",
       "        text-align: right;\n",
       "    }\n",
       "</style>\n",
       "<table border=\"1\" class=\"dataframe\">\n",
       "  <thead>\n",
       "    <tr style=\"text-align: right;\">\n",
       "      <th></th>\n",
       "      <th>stasiun</th>\n",
       "      <th>pm10</th>\n",
       "      <th>pm25</th>\n",
       "      <th>so2</th>\n",
       "      <th>co</th>\n",
       "      <th>o3</th>\n",
       "      <th>no2</th>\n",
       "    </tr>\n",
       "  </thead>\n",
       "  <tbody>\n",
       "    <tr>\n",
       "      <th>983</th>\n",
       "      <td>DKI3 (Jagakarsa)</td>\n",
       "      <td>59</td>\n",
       "      <td>88</td>\n",
       "      <td>49</td>\n",
       "      <td>7</td>\n",
       "      <td>23</td>\n",
       "      <td>15</td>\n",
       "    </tr>\n",
       "    <tr>\n",
       "      <th>1717</th>\n",
       "      <td>DKI2 (Kelapa Gading)</td>\n",
       "      <td>-1</td>\n",
       "      <td>78</td>\n",
       "      <td>-1</td>\n",
       "      <td>16</td>\n",
       "      <td>52</td>\n",
       "      <td>25</td>\n",
       "    </tr>\n",
       "    <tr>\n",
       "      <th>1021</th>\n",
       "      <td>DKI4 (Lubang Buaya)</td>\n",
       "      <td>47</td>\n",
       "      <td>84</td>\n",
       "      <td>33</td>\n",
       "      <td>16</td>\n",
       "      <td>21</td>\n",
       "      <td>22</td>\n",
       "    </tr>\n",
       "    <tr>\n",
       "      <th>1608</th>\n",
       "      <td>DKI3 (Jagakarsa)</td>\n",
       "      <td>45</td>\n",
       "      <td>64</td>\n",
       "      <td>52</td>\n",
       "      <td>8</td>\n",
       "      <td>33</td>\n",
       "      <td>13</td>\n",
       "    </tr>\n",
       "    <tr>\n",
       "      <th>1055</th>\n",
       "      <td>DKI5 (Kebon Jeruk) Jakarta Barat</td>\n",
       "      <td>45</td>\n",
       "      <td>70</td>\n",
       "      <td>39</td>\n",
       "      <td>8</td>\n",
       "      <td>16</td>\n",
       "      <td>22</td>\n",
       "    </tr>\n",
       "    <tr>\n",
       "      <th>...</th>\n",
       "      <td>...</td>\n",
       "      <td>...</td>\n",
       "      <td>...</td>\n",
       "      <td>...</td>\n",
       "      <td>...</td>\n",
       "      <td>...</td>\n",
       "      <td>...</td>\n",
       "    </tr>\n",
       "    <tr>\n",
       "      <th>520</th>\n",
       "      <td>DKI3 (Jagakarsa)</td>\n",
       "      <td>79</td>\n",
       "      <td>119</td>\n",
       "      <td>51</td>\n",
       "      <td>7</td>\n",
       "      <td>34</td>\n",
       "      <td>17</td>\n",
       "    </tr>\n",
       "    <tr>\n",
       "      <th>1561</th>\n",
       "      <td>DKI2 (Kelapa Gading)</td>\n",
       "      <td>68</td>\n",
       "      <td>100</td>\n",
       "      <td>64</td>\n",
       "      <td>12</td>\n",
       "      <td>66</td>\n",
       "      <td>26</td>\n",
       "    </tr>\n",
       "    <tr>\n",
       "      <th>290</th>\n",
       "      <td>DKI5 (Kebon Jeruk) Jakarta Barat</td>\n",
       "      <td>54</td>\n",
       "      <td>78</td>\n",
       "      <td>32</td>\n",
       "      <td>7</td>\n",
       "      <td>27</td>\n",
       "      <td>18</td>\n",
       "    </tr>\n",
       "    <tr>\n",
       "      <th>546</th>\n",
       "      <td>DKI4 (Lubang Buaya)</td>\n",
       "      <td>84</td>\n",
       "      <td>161</td>\n",
       "      <td>38</td>\n",
       "      <td>14</td>\n",
       "      <td>27</td>\n",
       "      <td>22</td>\n",
       "    </tr>\n",
       "    <tr>\n",
       "      <th>1500</th>\n",
       "      <td>DKI5 (Kebon Jeruk) Jakarta Barat</td>\n",
       "      <td>46</td>\n",
       "      <td>75</td>\n",
       "      <td>50</td>\n",
       "      <td>9</td>\n",
       "      <td>31</td>\n",
       "      <td>18</td>\n",
       "    </tr>\n",
       "  </tbody>\n",
       "</table>\n",
       "<p>1157 rows × 7 columns</p>\n",
       "</div>"
      ],
      "text/plain": [
       "                               stasiun  pm10  pm25  so2  co  o3  no2\n",
       "983                   DKI3 (Jagakarsa)    59    88   49   7  23   15\n",
       "1717              DKI2 (Kelapa Gading)    -1    78   -1  16  52   25\n",
       "1021               DKI4 (Lubang Buaya)    47    84   33  16  21   22\n",
       "1608                  DKI3 (Jagakarsa)    45    64   52   8  33   13\n",
       "1055  DKI5 (Kebon Jeruk) Jakarta Barat    45    70   39   8  16   22\n",
       "...                                ...   ...   ...  ...  ..  ..  ...\n",
       "520                   DKI3 (Jagakarsa)    79   119   51   7  34   17\n",
       "1561              DKI2 (Kelapa Gading)    68   100   64  12  66   26\n",
       "290   DKI5 (Kebon Jeruk) Jakarta Barat    54    78   32   7  27   18\n",
       "546                DKI4 (Lubang Buaya)    84   161   38  14  27   22\n",
       "1500  DKI5 (Kebon Jeruk) Jakarta Barat    46    75   50   9  31   18\n",
       "\n",
       "[1157 rows x 7 columns]"
      ]
     },
     "execution_count": 27,
     "metadata": {},
     "output_type": "execute_result"
    }
   ],
   "source": [
    "X_train"
   ]
  },
  {
   "cell_type": "code",
   "execution_count": 28,
   "metadata": {},
   "outputs": [
    {
     "data": {
      "text/plain": [
       "983          SEDANG\n",
       "1717         SEDANG\n",
       "1021         SEDANG\n",
       "1608         SEDANG\n",
       "1055         SEDANG\n",
       "           ...     \n",
       "520     TIDAK SEHAT\n",
       "1561         SEDANG\n",
       "290          SEDANG\n",
       "546     TIDAK SEHAT\n",
       "1500         SEDANG\n",
       "Name: categori, Length: 1157, dtype: object"
      ]
     },
     "execution_count": 28,
     "metadata": {},
     "output_type": "execute_result"
    }
   ],
   "source": [
    "y_train"
   ]
  },
  {
   "cell_type": "code",
   "execution_count": 29,
   "metadata": {},
   "outputs": [],
   "source": [
    "dataset = pd.concat([X_train, y_train], axis = 1)"
   ]
  },
  {
   "cell_type": "code",
   "execution_count": 30,
   "metadata": {},
   "outputs": [
    {
     "data": {
      "text/html": [
       "<div>\n",
       "<style scoped>\n",
       "    .dataframe tbody tr th:only-of-type {\n",
       "        vertical-align: middle;\n",
       "    }\n",
       "\n",
       "    .dataframe tbody tr th {\n",
       "        vertical-align: top;\n",
       "    }\n",
       "\n",
       "    .dataframe thead th {\n",
       "        text-align: right;\n",
       "    }\n",
       "</style>\n",
       "<table border=\"1\" class=\"dataframe\">\n",
       "  <thead>\n",
       "    <tr style=\"text-align: right;\">\n",
       "      <th></th>\n",
       "      <th>stasiun</th>\n",
       "      <th>pm10</th>\n",
       "      <th>pm25</th>\n",
       "      <th>so2</th>\n",
       "      <th>co</th>\n",
       "      <th>o3</th>\n",
       "      <th>no2</th>\n",
       "      <th>categori</th>\n",
       "    </tr>\n",
       "  </thead>\n",
       "  <tbody>\n",
       "    <tr>\n",
       "      <th>983</th>\n",
       "      <td>DKI3 (Jagakarsa)</td>\n",
       "      <td>59</td>\n",
       "      <td>88</td>\n",
       "      <td>49</td>\n",
       "      <td>7</td>\n",
       "      <td>23</td>\n",
       "      <td>15</td>\n",
       "      <td>SEDANG</td>\n",
       "    </tr>\n",
       "    <tr>\n",
       "      <th>1717</th>\n",
       "      <td>DKI2 (Kelapa Gading)</td>\n",
       "      <td>-1</td>\n",
       "      <td>78</td>\n",
       "      <td>-1</td>\n",
       "      <td>16</td>\n",
       "      <td>52</td>\n",
       "      <td>25</td>\n",
       "      <td>SEDANG</td>\n",
       "    </tr>\n",
       "    <tr>\n",
       "      <th>1021</th>\n",
       "      <td>DKI4 (Lubang Buaya)</td>\n",
       "      <td>47</td>\n",
       "      <td>84</td>\n",
       "      <td>33</td>\n",
       "      <td>16</td>\n",
       "      <td>21</td>\n",
       "      <td>22</td>\n",
       "      <td>SEDANG</td>\n",
       "    </tr>\n",
       "    <tr>\n",
       "      <th>1608</th>\n",
       "      <td>DKI3 (Jagakarsa)</td>\n",
       "      <td>45</td>\n",
       "      <td>64</td>\n",
       "      <td>52</td>\n",
       "      <td>8</td>\n",
       "      <td>33</td>\n",
       "      <td>13</td>\n",
       "      <td>SEDANG</td>\n",
       "    </tr>\n",
       "    <tr>\n",
       "      <th>1055</th>\n",
       "      <td>DKI5 (Kebon Jeruk) Jakarta Barat</td>\n",
       "      <td>45</td>\n",
       "      <td>70</td>\n",
       "      <td>39</td>\n",
       "      <td>8</td>\n",
       "      <td>16</td>\n",
       "      <td>22</td>\n",
       "      <td>SEDANG</td>\n",
       "    </tr>\n",
       "    <tr>\n",
       "      <th>...</th>\n",
       "      <td>...</td>\n",
       "      <td>...</td>\n",
       "      <td>...</td>\n",
       "      <td>...</td>\n",
       "      <td>...</td>\n",
       "      <td>...</td>\n",
       "      <td>...</td>\n",
       "      <td>...</td>\n",
       "    </tr>\n",
       "    <tr>\n",
       "      <th>520</th>\n",
       "      <td>DKI3 (Jagakarsa)</td>\n",
       "      <td>79</td>\n",
       "      <td>119</td>\n",
       "      <td>51</td>\n",
       "      <td>7</td>\n",
       "      <td>34</td>\n",
       "      <td>17</td>\n",
       "      <td>TIDAK SEHAT</td>\n",
       "    </tr>\n",
       "    <tr>\n",
       "      <th>1561</th>\n",
       "      <td>DKI2 (Kelapa Gading)</td>\n",
       "      <td>68</td>\n",
       "      <td>100</td>\n",
       "      <td>64</td>\n",
       "      <td>12</td>\n",
       "      <td>66</td>\n",
       "      <td>26</td>\n",
       "      <td>SEDANG</td>\n",
       "    </tr>\n",
       "    <tr>\n",
       "      <th>290</th>\n",
       "      <td>DKI5 (Kebon Jeruk) Jakarta Barat</td>\n",
       "      <td>54</td>\n",
       "      <td>78</td>\n",
       "      <td>32</td>\n",
       "      <td>7</td>\n",
       "      <td>27</td>\n",
       "      <td>18</td>\n",
       "      <td>SEDANG</td>\n",
       "    </tr>\n",
       "    <tr>\n",
       "      <th>546</th>\n",
       "      <td>DKI4 (Lubang Buaya)</td>\n",
       "      <td>84</td>\n",
       "      <td>161</td>\n",
       "      <td>38</td>\n",
       "      <td>14</td>\n",
       "      <td>27</td>\n",
       "      <td>22</td>\n",
       "      <td>TIDAK SEHAT</td>\n",
       "    </tr>\n",
       "    <tr>\n",
       "      <th>1500</th>\n",
       "      <td>DKI5 (Kebon Jeruk) Jakarta Barat</td>\n",
       "      <td>46</td>\n",
       "      <td>75</td>\n",
       "      <td>50</td>\n",
       "      <td>9</td>\n",
       "      <td>31</td>\n",
       "      <td>18</td>\n",
       "      <td>SEDANG</td>\n",
       "    </tr>\n",
       "  </tbody>\n",
       "</table>\n",
       "<p>1157 rows × 8 columns</p>\n",
       "</div>"
      ],
      "text/plain": [
       "                               stasiun  pm10  pm25  so2  co  o3  no2   \n",
       "983                   DKI3 (Jagakarsa)    59    88   49   7  23   15  \\\n",
       "1717              DKI2 (Kelapa Gading)    -1    78   -1  16  52   25   \n",
       "1021               DKI4 (Lubang Buaya)    47    84   33  16  21   22   \n",
       "1608                  DKI3 (Jagakarsa)    45    64   52   8  33   13   \n",
       "1055  DKI5 (Kebon Jeruk) Jakarta Barat    45    70   39   8  16   22   \n",
       "...                                ...   ...   ...  ...  ..  ..  ...   \n",
       "520                   DKI3 (Jagakarsa)    79   119   51   7  34   17   \n",
       "1561              DKI2 (Kelapa Gading)    68   100   64  12  66   26   \n",
       "290   DKI5 (Kebon Jeruk) Jakarta Barat    54    78   32   7  27   18   \n",
       "546                DKI4 (Lubang Buaya)    84   161   38  14  27   22   \n",
       "1500  DKI5 (Kebon Jeruk) Jakarta Barat    46    75   50   9  31   18   \n",
       "\n",
       "         categori  \n",
       "983        SEDANG  \n",
       "1717       SEDANG  \n",
       "1021       SEDANG  \n",
       "1608       SEDANG  \n",
       "1055       SEDANG  \n",
       "...           ...  \n",
       "520   TIDAK SEHAT  \n",
       "1561       SEDANG  \n",
       "290        SEDANG  \n",
       "546   TIDAK SEHAT  \n",
       "1500       SEDANG  \n",
       "\n",
       "[1157 rows x 8 columns]"
      ]
     },
     "execution_count": 30,
     "metadata": {},
     "output_type": "execute_result"
    }
   ],
   "source": [
    "dataset"
   ]
  },
  {
   "attachments": {},
   "cell_type": "markdown",
   "metadata": {},
   "source": [
    "# 3. EDA"
   ]
  },
  {
   "attachments": {},
   "cell_type": "markdown",
   "metadata": {},
   "source": [
    "## 3.1. Cek missing value"
   ]
  },
  {
   "cell_type": "code",
   "execution_count": 31,
   "metadata": {},
   "outputs": [],
   "source": [
    "dataset.replace(-1, np.nan, inplace = True)"
   ]
  },
  {
   "cell_type": "code",
   "execution_count": 32,
   "metadata": {},
   "outputs": [
    {
     "data": {
      "text/plain": [
       "stasiun      0\n",
       "pm10        38\n",
       "pm25        59\n",
       "so2         63\n",
       "co          11\n",
       "o3          33\n",
       "no2         12\n",
       "categori     0\n",
       "dtype: int64"
      ]
     },
     "execution_count": 32,
     "metadata": {},
     "output_type": "execute_result"
    }
   ],
   "source": [
    "dataset.isnull().sum()"
   ]
  },
  {
   "attachments": {},
   "cell_type": "markdown",
   "metadata": {},
   "source": [
    "## 3.2. Cek Informasi Statistik"
   ]
  },
  {
   "cell_type": "code",
   "execution_count": 33,
   "metadata": {},
   "outputs": [
    {
     "data": {
      "text/plain": [
       "pm10    0.290332\n",
       "pm25    0.265499\n",
       "so2     0.230249\n",
       "co      1.676094\n",
       "o3      1.635067\n",
       "no2     0.930391\n",
       "dtype: float64"
      ]
     },
     "execution_count": 33,
     "metadata": {},
     "output_type": "execute_result"
    }
   ],
   "source": [
    "dataset.skew(numeric_only = True)"
   ]
  },
  {
   "cell_type": "code",
   "execution_count": null,
   "metadata": {},
   "outputs": [],
   "source": []
  }
 ],
 "metadata": {
  "kernelspec": {
   "display_name": "venv_ml_process",
   "language": "python",
   "name": "python3"
  },
  "language_info": {
   "codemirror_mode": {
    "name": "ipython",
    "version": 3
   },
   "file_extension": ".py",
   "mimetype": "text/x-python",
   "name": "python",
   "nbconvert_exporter": "python",
   "pygments_lexer": "ipython3",
   "version": "3.9.12"
  },
  "orig_nbformat": 4
 },
 "nbformat": 4,
 "nbformat_minor": 2
}
